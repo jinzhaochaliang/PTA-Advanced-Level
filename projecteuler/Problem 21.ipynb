{
 "cells": [
  {
   "cell_type": "code",
   "execution_count": 4,
   "metadata": {},
   "outputs": [
    {
     "name": "stdout",
     "output_type": "stream",
     "text": [
      "31626\n"
     ]
    }
   ],
   "source": [
    "def sum(n):\n",
    "    count=0\n",
    "    for i in range(1,int(n/2+1)):\n",
    "        if n%i==0:\n",
    "            count+=i\n",
    "    return count\n",
    "value=0\n",
    "for i in range(1,10001):\n",
    "    sum1=sum(i)\n",
    "    if(sum(sum1)==i and i!=sum1):\n",
    "        value+=i\n",
    "print(value)"
   ]
  },
  {
   "cell_type": "code",
   "execution_count": null,
   "metadata": {
    "collapsed": true
   },
   "outputs": [],
   "source": []
  }
 ],
 "metadata": {
  "kernelspec": {
   "display_name": "Python 3",
   "language": "python",
   "name": "python3"
  },
  "language_info": {
   "codemirror_mode": {
    "name": "ipython",
    "version": 3
   },
   "file_extension": ".py",
   "mimetype": "text/x-python",
   "name": "python",
   "nbconvert_exporter": "python",
   "pygments_lexer": "ipython3",
   "version": "3.6.3"
  }
 },
 "nbformat": 4,
 "nbformat_minor": 2
}
