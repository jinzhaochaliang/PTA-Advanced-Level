{
 "cells": [
  {
   "cell_type": "code",
   "execution_count": 9,
   "metadata": {},
   "outputs": [
    {
     "name": "stdout",
     "output_type": "stream",
     "text": [
      "40730\n"
     ]
    }
   ],
   "source": [
    "list1=[]\n",
    "def f(num):\n",
    "    temp=1\n",
    "    for i in range(1,num+1):\n",
    "        temp*=i\n",
    "    return temp\n",
    "#f(4)\n",
    "for i in range(10,1000000):\n",
    "    temp = i\n",
    "    total = 0\n",
    "    while temp:\n",
    "        total+=f(temp%10)\n",
    "        temp=temp//10\n",
    "        \n",
    "    if total == i:\n",
    "        list1.append(i)\n",
    "        \n",
    "print(sum(list1))"
   ]
  },
  {
   "cell_type": "code",
   "execution_count": null,
   "metadata": {
    "collapsed": true
   },
   "outputs": [],
   "source": []
  }
 ],
 "metadata": {
  "kernelspec": {
   "display_name": "Python 3",
   "language": "python",
   "name": "python3"
  },
  "language_info": {
   "codemirror_mode": {
    "name": "ipython",
    "version": 3
   },
   "file_extension": ".py",
   "mimetype": "text/x-python",
   "name": "python",
   "nbconvert_exporter": "python",
   "pygments_lexer": "ipython3",
   "version": "3.6.3"
  }
 },
 "nbformat": 4,
 "nbformat_minor": 2
}
