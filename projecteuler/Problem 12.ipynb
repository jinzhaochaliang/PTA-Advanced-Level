{
 "cells": [
  {
   "cell_type": "code",
   "execution_count": 2,
   "metadata": {},
   "outputs": [
    {
     "name": "stdout",
     "output_type": "stream",
     "text": [
      "288\n",
      "76576500\n"
     ]
    }
   ],
   "source": [
    "import math\n",
    "count = 0\n",
    "total = 0\n",
    "list1 = []\n",
    "\n",
    "while True:\n",
    "      count += 1\n",
    "      total += count\n",
    "      \n",
    "      for each in range(1,int(math.sqrt(total))+1):\n",
    "            if total % each == 0:\n",
    "                  list1.append(each)\n",
    "                  \n",
    "      if len(list1) > 250:    #列表里的约数的个数是总约数的一半\n",
    "            print(len(list1))\n",
    "            print(total)\n",
    "            break\n",
    "      list1 = []"
   ]
  },
  {
   "cell_type": "code",
   "execution_count": null,
   "metadata": {
    "collapsed": true
   },
   "outputs": [],
   "source": []
  }
 ],
 "metadata": {
  "kernelspec": {
   "display_name": "Python 3",
   "language": "python",
   "name": "python3"
  },
  "language_info": {
   "codemirror_mode": {
    "name": "ipython",
    "version": 3
   },
   "file_extension": ".py",
   "mimetype": "text/x-python",
   "name": "python",
   "nbconvert_exporter": "python",
   "pygments_lexer": "ipython3",
   "version": "3.6.3"
  }
 },
 "nbformat": 4,
 "nbformat_minor": 2
}
