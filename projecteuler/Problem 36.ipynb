{
 "cells": [
  {
   "cell_type": "code",
   "execution_count": 2,
   "metadata": {},
   "outputs": [
    {
     "name": "stdout",
     "output_type": "stream",
     "text": [
      "872187\n"
     ]
    }
   ],
   "source": [
    "def ten(n):\n",
    "    temp = list(n)\n",
    "    temp.reverse()\n",
    "    temp1 = list(n)\n",
    "    if temp == temp1:\n",
    "        return True\n",
    "    else:\n",
    "        return False\n",
    "list1 = []\n",
    "for i in range(1,1000000):\n",
    "    num=str(i)\n",
    "    if ten(num):\n",
    "        t = bin(i)\n",
    "        if ten(str(t[2:])):\n",
    "            list1.append(i)\n",
    "print(sum(list1))"
   ]
  },
  {
   "cell_type": "code",
   "execution_count": null,
   "metadata": {
    "collapsed": true
   },
   "outputs": [],
   "source": []
  }
 ],
 "metadata": {
  "kernelspec": {
   "display_name": "Python 3",
   "language": "python",
   "name": "python3"
  },
  "language_info": {
   "codemirror_mode": {
    "name": "ipython",
    "version": 3
   },
   "file_extension": ".py",
   "mimetype": "text/x-python",
   "name": "python",
   "nbconvert_exporter": "python",
   "pygments_lexer": "ipython3",
   "version": "3.6.3"
  }
 },
 "nbformat": 4,
 "nbformat_minor": 2
}
