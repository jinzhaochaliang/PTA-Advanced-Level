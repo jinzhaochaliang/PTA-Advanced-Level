{
 "cells": [
  {
   "cell_type": "code",
   "execution_count": 1,
   "metadata": {},
   "outputs": [
    {
     "name": "stdout",
     "output_type": "stream",
     "text": [
      "73681\n"
     ]
    }
   ],
   "source": [
    "def get_coin(coins, target, n):\n",
    "    \"\"\"\n",
    "    返回构造target的方法数\n",
    "    coins 货币种类\n",
    "    target 构造货币大小\n",
    "    n 构造方法\n",
    "    \"\"\"\n",
    "    if target == 0:\n",
    "        n += 1\n",
    "        return n\n",
    "    if len(coins) == 1: \n",
    "        if target % coins[0] == 0:\n",
    "            n += 1\n",
    "            return n\n",
    "    return sum([get_coin(coins[1:], target - coins[0] * i, n) \n",
    "                for i in range(target // coins[0] + 1)])\n",
    "\n",
    "\n",
    "# 动态规划\n",
    "# 这里采用递归方式求解，其它方式可参考 欧拉计划 15\n",
    "coin_list = [100, 50, 20, 10, 5, 2, 1]\n",
    "target_Val = 200\n",
    "num = get_coin(coin_list, target_Val, 0)\n",
    "print(num)"
   ]
  },
  {
   "cell_type": "code",
   "execution_count": null,
   "metadata": {
    "collapsed": true
   },
   "outputs": [],
   "source": []
  }
 ],
 "metadata": {
  "kernelspec": {
   "display_name": "Python 3",
   "language": "python",
   "name": "python3"
  },
  "language_info": {
   "codemirror_mode": {
    "name": "ipython",
    "version": 3
   },
   "file_extension": ".py",
   "mimetype": "text/x-python",
   "name": "python",
   "nbconvert_exporter": "python",
   "pygments_lexer": "ipython3",
   "version": "3.6.3"
  }
 },
 "nbformat": 4,
 "nbformat_minor": 2
}
