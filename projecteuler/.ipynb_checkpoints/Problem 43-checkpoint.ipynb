{
 "cells": [
  {
   "cell_type": "code",
   "execution_count": 2,
   "metadata": {},
   "outputs": [
    {
     "name": "stdout",
     "output_type": "stream",
     "text": [
      "[1406357289, 1430952867, 1460357289, 4106357289, 4130952867, 4160357289]\n",
      "cost 2.777252 sec\n"
     ]
    }
   ],
   "source": [
    "from time import time\n",
    "from itertools import permutations\n",
    "def euler043():\n",
    "    l_temp = [v for v in permutations([0, 1, 2, 3, 4, 5, 6, 7, 8, 9], 10)]\n",
    "    l_primes = [2, 3, 5, 7, 11, 13, 17]\n",
    "    l_pans = []\n",
    "    l_result = []\n",
    "    for each in l_temp:\n",
    "        if each[0] == 0:\n",
    "            continue\n",
    "        if each[3] % 2 != 0:\n",
    "            continue\n",
    "        if each[5] not in (0, 5):\n",
    "            continue\n",
    "        s = ''\n",
    "        for i in list(each):\n",
    "            s += str(i)\n",
    "        l_pans.append(s)\n",
    "    for each in l_pans:\n",
    "        flag = True\n",
    "        for j in range(0, 7):\n",
    "            if not int(each[j + 1:j + 4]) % l_primes[j] == 0:\n",
    "                flag = False\n",
    "                break\n",
    "        if flag:\n",
    "            l_result.append(int(each))\n",
    "    print(l_result)\n",
    "      \n",
    "if __name__ == '__main__':\n",
    "    start = time() \n",
    "    euler043()\n",
    "    print('cost %.6f sec' % (time() - start))"
   ]
  },
  {
   "cell_type": "code",
   "execution_count": 3,
   "metadata": {},
   "outputs": [
    {
     "data": {
      "text/plain": [
       "16695334890"
      ]
     },
     "execution_count": 3,
     "metadata": {},
     "output_type": "execute_result"
    }
   ],
   "source": [
    "1406357289+1430952867+1460357289+4106357289+4130952867+4160357289"
   ]
  },
  {
   "cell_type": "code",
   "execution_count": null,
   "metadata": {
    "collapsed": true
   },
   "outputs": [],
   "source": []
  }
 ],
 "metadata": {
  "kernelspec": {
   "display_name": "Python 3",
   "language": "python",
   "name": "python3"
  },
  "language_info": {
   "codemirror_mode": {
    "name": "ipython",
    "version": 3
   },
   "file_extension": ".py",
   "mimetype": "text/x-python",
   "name": "python",
   "nbconvert_exporter": "python",
   "pygments_lexer": "ipython3",
   "version": "3.6.3"
  }
 },
 "nbformat": 4,
 "nbformat_minor": 2
}
