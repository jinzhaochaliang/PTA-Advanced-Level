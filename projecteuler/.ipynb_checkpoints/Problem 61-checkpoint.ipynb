{
 "cells": [
  {
   "cell_type": "code",
   "execution_count": 3,
   "metadata": {},
   "outputs": [
    {
     "name": "stdout",
     "output_type": "stream",
     "text": [
      "[1281, 8128, 2882, 8256, 5625, 2512] 28684 \n",
      "time:0.00000s\n"
     ]
    }
   ],
   "source": [
    "from time import time\n",
    "\n",
    "ttt = time()\n",
    "\n",
    "def getlist(lam):\n",
    "    '''获取x角形数的列表'''\n",
    "    l = []\n",
    "    for i in range(1, 1000):\n",
    "        n = lam(i)\n",
    "        if n < 1000: continue\n",
    "        if n >= 10000: return l\n",
    "        l.append(n)\n",
    "\n",
    "def progrem61_2(numbers):\n",
    "    if len(numbers) == 6 and numbers[-1] % 100 == numbers[0] // 100:\n",
    "        print(numbers, sum(numbers), \"\\ntime:%.5fs\"%(time()-ttt))\n",
    "        return 0\n",
    "    for i in range(6):\n",
    "        if flag[i]: continue\n",
    "        flag[i] = True\n",
    "        for j in p[i]:\n",
    "            if j // 100 == numbers[-1] % 100:\n",
    "                progrem61_2(numbers+[j])\n",
    "        flag[i] = False\n",
    "\n",
    "def progrem61_1():\n",
    "    flag[-1] = True\n",
    "    # 八角形数最少，从八角形数中选择第一个数\n",
    "    for i in p8:\n",
    "        progrem61_2([i])\n",
    "\n",
    "p3 = getlist(lambda n: n * (n + 1) // 2)\n",
    "p4 = getlist(lambda n: n * n)\n",
    "p5 = getlist(lambda n: n * (3 * n - 1) // 2)\n",
    "p6 = getlist(lambda n: n * (2 * n - 1))\n",
    "p7 = getlist(lambda n: n * (5 * n - 3) // 2)\n",
    "p8 = getlist(lambda n: n * (3 * n - 2))\n",
    "p = [p3, p4, p5, p6, p7, p8]\n",
    "flag = [False] * 6 # 标志数组，用于判断是否遍历过\n",
    "progrem61_1()"
   ]
  },
  {
   "cell_type": "code",
   "execution_count": null,
   "metadata": {
    "collapsed": true
   },
   "outputs": [],
   "source": []
  }
 ],
 "metadata": {
  "kernelspec": {
   "display_name": "Python 3",
   "language": "python",
   "name": "python3"
  },
  "language_info": {
   "codemirror_mode": {
    "name": "ipython",
    "version": 3
   },
   "file_extension": ".py",
   "mimetype": "text/x-python",
   "name": "python",
   "nbconvert_exporter": "python",
   "pygments_lexer": "ipython3",
   "version": "3.6.3"
  }
 },
 "nbformat": 4,
 "nbformat_minor": 2
}
