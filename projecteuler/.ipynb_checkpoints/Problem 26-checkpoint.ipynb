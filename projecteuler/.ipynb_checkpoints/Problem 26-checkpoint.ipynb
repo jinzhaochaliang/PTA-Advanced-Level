{
 "cells": [
  {
   "cell_type": "code",
   "execution_count": 2,
   "metadata": {
    "collapsed": true
   },
   "outputs": [],
   "source": [
    "import math"
   ]
  },
  {
   "cell_type": "code",
   "execution_count": 5,
   "metadata": {},
   "outputs": [
    {
     "name": "stdout",
     "output_type": "stream",
     "text": [
      "982\n",
      "983\n"
     ]
    }
   ],
   "source": [
    "def recu_cycle(d):\n",
    "    for t in range(1,d):\n",
    "        if 1 == 10**t % d:\n",
    "            return t;\n",
    "    return 0\n",
    "longest = max(recu_cycle(i) for i in range(2,1001))\n",
    "print(longest)\n",
    "print ([i for i in range(2,1001) if recu_cycle(i) == longest][0])"
   ]
  },
  {
   "cell_type": "code",
   "execution_count": null,
   "metadata": {
    "collapsed": true
   },
   "outputs": [],
   "source": []
  },
  {
   "cell_type": "code",
   "execution_count": null,
   "metadata": {
    "collapsed": true
   },
   "outputs": [],
   "source": []
  }
 ],
 "metadata": {
  "kernelspec": {
   "display_name": "Python 3",
   "language": "python",
   "name": "python3"
  },
  "language_info": {
   "codemirror_mode": {
    "name": "ipython",
    "version": 3
   },
   "file_extension": ".py",
   "mimetype": "text/x-python",
   "name": "python",
   "nbconvert_exporter": "python",
   "pygments_lexer": "ipython3",
   "version": "3.6.3"
  }
 },
 "nbformat": 4,
 "nbformat_minor": 2
}
