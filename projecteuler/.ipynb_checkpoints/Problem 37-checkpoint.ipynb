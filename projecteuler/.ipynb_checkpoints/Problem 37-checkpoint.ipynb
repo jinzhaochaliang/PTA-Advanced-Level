{
 "cells": [
  {
   "cell_type": "code",
   "execution_count": 21,
   "metadata": {},
   "outputs": [
    {
     "name": "stdout",
     "output_type": "stream",
     "text": [
      "[23, 37, 53, 73, 313, 317, 373, 797, 3137, 3797, 739397]\n",
      "748317\n"
     ]
    }
   ],
   "source": [
    "import math\n",
    "def judgeprime(n):\n",
    "    if n==1:\n",
    "        return False\n",
    "    for i in range(2, int(math.sqrt(n)) + 1):\n",
    "        if n%i == 0:\n",
    "            return False\n",
    "    return True\n",
    "def getprime(n):\n",
    "    list=[]\n",
    "    for i in range(2,n):\n",
    "        if judgeprime(i):\n",
    "            list.append(i)\n",
    "    return list\n",
    "def left(n):\n",
    "    num=str(n)\n",
    "    if len(num)==1:\n",
    "        return False\n",
    "    while len(num)>1:\n",
    "        num=num[1:]\n",
    "        if not judgeprime(int(num)):\n",
    "            return False\n",
    "    return True\n",
    "def right(n):\n",
    "    num=str(n)\n",
    "    while len(num)>1:\n",
    "        num=num[:-1]\n",
    "        if not judgeprime(int(num)):\n",
    "            return False\n",
    "    return True\n",
    "primelist = getprime(1000000)\n",
    "rlist = []\n",
    "for each in primelist:\n",
    "    if left(each) and right(each):\n",
    "        rlist.append(each)\n",
    "print(rlist)\n",
    "print(sum(rlist))"
   ]
  },
  {
   "cell_type": "code",
   "execution_count": 7,
   "metadata": {},
   "outputs": [
    {
     "data": {
      "text/plain": [
       "'23'"
      ]
     },
     "execution_count": 7,
     "metadata": {},
     "output_type": "execute_result"
    }
   ],
   "source": [
    "len(str(234))\n",
    "num=str(234)\n",
    "num[:-1]"
   ]
  },
  {
   "cell_type": "code",
   "execution_count": null,
   "metadata": {
    "collapsed": true
   },
   "outputs": [],
   "source": []
  }
 ],
 "metadata": {
  "kernelspec": {
   "display_name": "Python 3",
   "language": "python",
   "name": "python3"
  },
  "language_info": {
   "codemirror_mode": {
    "name": "ipython",
    "version": 3
   },
   "file_extension": ".py",
   "mimetype": "text/x-python",
   "name": "python",
   "nbconvert_exporter": "python",
   "pygments_lexer": "ipython3",
   "version": "3.6.3"
  }
 },
 "nbformat": 4,
 "nbformat_minor": 2
}
