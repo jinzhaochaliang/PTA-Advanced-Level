{
 "cells": [
  {
   "cell_type": "code",
   "execution_count": 1,
   "metadata": {},
   "outputs": [
    {
     "name": "stdout",
     "output_type": "stream",
     "text": [
      "1533776805\n"
     ]
    }
   ],
   "source": [
    "n = 144\n",
    "while True:\n",
    "    m = n*(2*n-1)\n",
    "    if ((m*24+1)**0.5+1)%6 == 0:\n",
    "        print(m)\n",
    "        break\n",
    "    n += 1"
   ]
  },
  {
   "cell_type": "code",
   "execution_count": 3,
   "metadata": {},
   "outputs": [
    {
     "name": "stdout",
     "output_type": "stream",
     "text": [
      "1.0\n",
      "40755.0\n",
      "1533776805.0\n"
     ]
    }
   ],
   "source": [
    "s = set((i*(i+1)/2) for i in range(1,250000))\n",
    "\n",
    "t = set((i*(3*i-1)/2) for i in range(1,250000))\n",
    "\n",
    "n = set((i*(2*i-1)) for i in range(1,250000))\n",
    "\n",
    "for i in s:\n",
    "    if i in t and i in n:\n",
    "        print(i)"
   ]
  },
  {
   "cell_type": "code",
   "execution_count": null,
   "metadata": {
    "collapsed": true
   },
   "outputs": [],
   "source": []
  }
 ],
 "metadata": {
  "kernelspec": {
   "display_name": "Python 3",
   "language": "python",
   "name": "python3"
  },
  "language_info": {
   "codemirror_mode": {
    "name": "ipython",
    "version": 3
   },
   "file_extension": ".py",
   "mimetype": "text/x-python",
   "name": "python",
   "nbconvert_exporter": "python",
   "pygments_lexer": "ipython3",
   "version": "3.6.3"
  }
 },
 "nbformat": 4,
 "nbformat_minor": 2
}
