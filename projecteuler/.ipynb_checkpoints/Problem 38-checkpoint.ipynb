{
 "cells": [
  {
   "cell_type": "code",
   "execution_count": 1,
   "metadata": {},
   "outputs": [
    {
     "data": {
      "text/plain": [
       "'918273645'"
      ]
     },
     "execution_count": 1,
     "metadata": {},
     "output_type": "execute_result"
    }
   ],
   "source": [
    "num1=9*1\n",
    "num2=9*2\n",
    "num3=9*3\n",
    "num4=9*4\n",
    "num5=9*5\n",
    "str(num1)+str(num2)+str(num3)+str(num4)+str(num5)"
   ]
  },
  {
   "cell_type": "code",
   "execution_count": 6,
   "metadata": {},
   "outputs": [
    {
     "data": {
      "text/plain": [
       "932718654"
      ]
     },
     "execution_count": 6,
     "metadata": {},
     "output_type": "execute_result"
    }
   ],
   "source": [
    "list1 = [1,2,3,4,5,6,7,8,9]\n",
    "maxnum=0\n",
    "for i in range(1,10000):\n",
    "    str1=\"\"\n",
    "    for j in list1:\n",
    "        str1+=str(j*i)\n",
    "        if len(str1)>=9:\n",
    "            break\n",
    "    if len(str1)==9:\n",
    "        flag=True\n",
    "        for each in list1:\n",
    "            if str(each) not in str1:\n",
    "                flag=False\n",
    "                break\n",
    "        if flag:\n",
    "            maxnum=maxnum if(maxnum>int(str1)) else int(str1)\n",
    "maxnum"
   ]
  },
  {
   "cell_type": "code",
   "execution_count": null,
   "metadata": {
    "collapsed": true
   },
   "outputs": [],
   "source": []
  }
 ],
 "metadata": {
  "kernelspec": {
   "display_name": "Python 3",
   "language": "python",
   "name": "python3"
  },
  "language_info": {
   "codemirror_mode": {
    "name": "ipython",
    "version": 3
   },
   "file_extension": ".py",
   "mimetype": "text/x-python",
   "name": "python",
   "nbconvert_exporter": "python",
   "pygments_lexer": "ipython3",
   "version": "3.6.3"
  }
 },
 "nbformat": 4,
 "nbformat_minor": 2
}
