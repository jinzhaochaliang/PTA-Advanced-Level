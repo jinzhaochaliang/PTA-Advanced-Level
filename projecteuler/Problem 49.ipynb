{
 "cells": [
  {
   "cell_type": "code",
   "execution_count": 24,
   "metadata": {},
   "outputs": [
    {
     "name": "stdout",
     "output_type": "stream",
     "text": [
      "1487 4817 8147\n",
      "2969 6299 9629\n"
     ]
    }
   ],
   "source": [
    "def isprime(n):\n",
    "    if n % 2 ==0:\n",
    "        return False\n",
    "    for i in range(3,int(n**0.5+1),2):\n",
    "        if n % i ==0:\n",
    "            return False\n",
    "    return True\n",
    "\n",
    "for i in range(1000,3340):\n",
    "    if isprime(i) and isprime(i+3330) and isprime(i+6660):\n",
    "        alist=[]\n",
    "        alist.append(i%10)\n",
    "        alist.append(i//10%10)\n",
    "        alist.append(i//100%10)\n",
    "        alist.append(i//1000%10)\n",
    "        if ((i+3330)%10) not in alist:\n",
    "            continue\n",
    "        if ((i+3330)//10%10) not in alist:\n",
    "            continue\n",
    "        if ((i+3330)//100%10) not in alist:\n",
    "            continue\n",
    "        if ((i+3330)//1000%10) not in alist:\n",
    "            continue\n",
    "        else:\n",
    "            print(i,i+3330,i+6660) "
   ]
  },
  {
   "cell_type": "code",
   "execution_count": null,
   "metadata": {},
   "outputs": [],
   "source": []
  },
  {
   "cell_type": "code",
   "execution_count": null,
   "metadata": {
    "collapsed": true
   },
   "outputs": [],
   "source": []
  }
 ],
 "metadata": {
  "kernelspec": {
   "display_name": "Python 3",
   "language": "python",
   "name": "python3"
  },
  "language_info": {
   "codemirror_mode": {
    "name": "ipython",
    "version": 3
   },
   "file_extension": ".py",
   "mimetype": "text/x-python",
   "name": "python",
   "nbconvert_exporter": "python",
   "pygments_lexer": "ipython3",
   "version": "3.6.3"
  }
 },
 "nbformat": 4,
 "nbformat_minor": 2
}
