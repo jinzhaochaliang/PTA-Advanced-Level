{
 "cells": [
  {
   "cell_type": "code",
   "execution_count": 8,
   "metadata": {},
   "outputs": [
    {
     "name": "stdout",
     "output_type": "stream",
     "text": [
      "16 64\n",
      "0.25\n",
      "19 95\n",
      "0.2\n",
      "26 65\n",
      "0.4\n",
      "49 98\n",
      "0.5\n"
     ]
    }
   ],
   "source": [
    "def f(i,j):\n",
    "    i1=i%10\n",
    "    i2=i//10\n",
    "    j1=j%10\n",
    "    j2=j//10\n",
    "    if i1==0 or i2==0 or j1==0 or j2==0 or i==j:\n",
    "        return 0\n",
    "    if i1==j2:\n",
    "        return i2/j1\n",
    "    elif i2==j1:\n",
    "        return i1/j2\n",
    "    else:\n",
    "        return 0\n",
    "for i in range(1,99):\n",
    "    for j in range(i,99):\n",
    "        if i/j == f(i,j):\n",
    "            print(i,j)\n",
    "            print(i/j)"
   ]
  },
  {
   "cell_type": "code",
   "execution_count": null,
   "metadata": {
    "collapsed": true
   },
   "outputs": [],
   "source": []
  }
 ],
 "metadata": {
  "kernelspec": {
   "display_name": "Python 3",
   "language": "python",
   "name": "python3"
  },
  "language_info": {
   "codemirror_mode": {
    "name": "ipython",
    "version": 3
   },
   "file_extension": ".py",
   "mimetype": "text/x-python",
   "name": "python",
   "nbconvert_exporter": "python",
   "pygments_lexer": "ipython3",
   "version": "3.6.3"
  }
 },
 "nbformat": 4,
 "nbformat_minor": 2
}
