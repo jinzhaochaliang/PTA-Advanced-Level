{
 "cells": [
  {
   "cell_type": "code",
   "execution_count": 9,
   "metadata": {},
   "outputs": [],
   "source": [
    "def Prime(x):\n",
    "    if x >1:\n",
    "        if x==2:\n",
    "            return True\n",
    "        if x%2==0:\n",
    "            return False\n",
    "        for i in range(3,int(x**0.5+1),2):\n",
    "            if x%i==0:\n",
    "                return False\n",
    "        return True\n",
    "    return False\n",
    "primelist=[]\n",
    "for i in range(1,1000000):\n",
    "    if Prime(i):\n",
    "        primelist.append(i)\n",
    "        if sum(primelist)>1000000:\n",
    "            primelist=primelist[:-1]\n",
    "            break"
   ]
  },
  {
   "cell_type": "code",
   "execution_count": 10,
   "metadata": {},
   "outputs": [
    {
     "name": "stdout",
     "output_type": "stream",
     "text": [
      "997661\n"
     ]
    }
   ],
   "source": [
    "count=sum(primelist)\n",
    "print(count)"
   ]
  },
  {
   "cell_type": "code",
   "execution_count": 13,
   "metadata": {},
   "outputs": [
    {
     "name": "stdout",
     "output_type": "stream",
     "text": [
      "3 997651\n"
     ]
    }
   ],
   "source": [
    "left=0\n",
    "lcount=count\n",
    "for i in range(len(primelist)):\n",
    "    lcount-=primelist[i]\n",
    "    left+=1\n",
    "    if Prime(lcount):\n",
    "        break\n",
    "print(left,lcount)"
   ]
  },
  {
   "cell_type": "code",
   "execution_count": 15,
   "metadata": {},
   "outputs": [
    {
     "name": "stdout",
     "output_type": "stream",
     "text": [
      "21 920291\n"
     ]
    }
   ],
   "source": [
    "right=0\n",
    "rcount=count\n",
    "for i in range(len(primelist)):\n",
    "    rcount-=primelist[-i]\n",
    "    right+=1\n",
    "    if Prime(rcount):\n",
    "        break\n",
    "print(right,rcount)"
   ]
  },
  {
   "cell_type": "code",
   "execution_count": null,
   "metadata": {
    "collapsed": true
   },
   "outputs": [],
   "source": []
  }
 ],
 "metadata": {
  "kernelspec": {
   "display_name": "Python 3",
   "language": "python",
   "name": "python3"
  },
  "language_info": {
   "codemirror_mode": {
    "name": "ipython",
    "version": 3
   },
   "file_extension": ".py",
   "mimetype": "text/x-python",
   "name": "python",
   "nbconvert_exporter": "python",
   "pygments_lexer": "ipython3",
   "version": "3.6.3"
  }
 },
 "nbformat": 4,
 "nbformat_minor": 2
}
