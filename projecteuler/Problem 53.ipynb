{
 "cells": [
  {
   "cell_type": "code",
   "execution_count": 4,
   "metadata": {},
   "outputs": [
    {
     "name": "stdout",
     "output_type": "stream",
     "text": [
      "4075\n"
     ]
    }
   ],
   "source": [
    "def Cnr(n,r):\n",
    "        if n == 1 or n == 0: return 1\n",
    "        if r == 0: return 1\n",
    "        Fn, Fr, Fnr = 1,1,1\n",
    "        for i in range(1,n+1):\n",
    "                Fn *= i\n",
    "        for j in range(1,r+1):\n",
    "                Fr *= j\n",
    "        for k in range(1,(n-r+1)):\n",
    "                Fnr *= k \n",
    "        return int(Fn/Fr/Fnr)\n",
    "\n",
    "count = 0\n",
    "for n in range(1,101):\n",
    "        for r in range(1,101):\n",
    "                if Cnr(n,r) > 1000000:\n",
    "                        count+=1\n",
    "print (count)"
   ]
  },
  {
   "cell_type": "code",
   "execution_count": null,
   "metadata": {
    "collapsed": true
   },
   "outputs": [],
   "source": []
  }
 ],
 "metadata": {
  "kernelspec": {
   "display_name": "Python 3",
   "language": "python",
   "name": "python3"
  },
  "language_info": {
   "codemirror_mode": {
    "name": "ipython",
    "version": 3
   },
   "file_extension": ".py",
   "mimetype": "text/x-python",
   "name": "python",
   "nbconvert_exporter": "python",
   "pygments_lexer": "ipython3",
   "version": "3.6.3"
  }
 },
 "nbformat": 4,
 "nbformat_minor": 2
}
