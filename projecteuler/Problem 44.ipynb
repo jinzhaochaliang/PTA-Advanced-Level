{
 "cells": [
  {
   "cell_type": "code",
   "execution_count": 3,
   "metadata": {},
   "outputs": [
    {
     "name": "stdout",
     "output_type": "stream",
     "text": [
      "5482660.0\n",
      "Time: 0.31773853302001953 secs\n"
     ]
    }
   ],
   "source": [
    "from time import time\n",
    "start = time()\n",
    "\n",
    "def generatePentagonals(n):\n",
    "    pentagonals = [0]\n",
    "    x=1\n",
    "    while pentagonals[len(pentagonals)-1] < n:\n",
    "        pentagonals.append(x*(3*x-1)/2)\n",
    "        x+=1\n",
    "    pentagonals.pop(0)\n",
    "    return pentagonals\n",
    "\n",
    "\n",
    "def findPair(p):\n",
    "    pSet = set(p)\n",
    "\n",
    "    for i in range (1,len(p)):\n",
    "        for j in range(0,i):\n",
    "            if (p[i]-p[j] in pSet) and (p[i]+p[j] in pSet):\n",
    "                return p[i] - p[j]\n",
    "                \n",
    "\n",
    "    return \"Pair not in range\"\n",
    "\n",
    "    \n",
    "print (findPair(generatePentagonals(10000000)))\n",
    "\n",
    "print(\"Time: {0} secs\".format(time()-start))"
   ]
  },
  {
   "cell_type": "code",
   "execution_count": null,
   "metadata": {
    "collapsed": true
   },
   "outputs": [],
   "source": []
  }
 ],
 "metadata": {
  "kernelspec": {
   "display_name": "Python 3",
   "language": "python",
   "name": "python3"
  },
  "language_info": {
   "codemirror_mode": {
    "name": "ipython",
    "version": 3
   },
   "file_extension": ".py",
   "mimetype": "text/x-python",
   "name": "python",
   "nbconvert_exporter": "python",
   "pygments_lexer": "ipython3",
   "version": "3.6.3"
  }
 },
 "nbformat": 4,
 "nbformat_minor": 2
}
