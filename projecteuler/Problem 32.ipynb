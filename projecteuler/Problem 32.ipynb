{
 "cells": [
  {
   "cell_type": "code",
   "execution_count": 1,
   "metadata": {},
   "outputs": [
    {
     "name": "stdout",
     "output_type": "stream",
     "text": [
      "45228\n"
     ]
    }
   ],
   "source": [
    "list1 = [1,2,3,4,5,6,7,8,9]\n",
    "list2 = []\n",
    "for i in range(1,100):\n",
    "      for j in range(100,10000):\n",
    "            temp = True\n",
    "            if len(str(i))+len(str(j))+len(str(i*j)) == 9:\n",
    "                  for each in list1:\n",
    "                        if str(each) not in (str(i)+str(j)+str(i*j)):\n",
    "                              temp = False\n",
    "                              break\n",
    "                  if temp:\n",
    "                        if i*j not in list2:\n",
    "                              list2.append(i*j)\n",
    "print(sum(list2))"
   ]
  },
  {
   "cell_type": "code",
   "execution_count": null,
   "metadata": {
    "collapsed": true
   },
   "outputs": [],
   "source": []
  }
 ],
 "metadata": {
  "kernelspec": {
   "display_name": "Python 3",
   "language": "python",
   "name": "python3"
  },
  "language_info": {
   "codemirror_mode": {
    "name": "ipython",
    "version": 3
   },
   "file_extension": ".py",
   "mimetype": "text/x-python",
   "name": "python",
   "nbconvert_exporter": "python",
   "pygments_lexer": "ipython3",
   "version": "3.6.3"
  }
 },
 "nbformat": 4,
 "nbformat_minor": 2
}
